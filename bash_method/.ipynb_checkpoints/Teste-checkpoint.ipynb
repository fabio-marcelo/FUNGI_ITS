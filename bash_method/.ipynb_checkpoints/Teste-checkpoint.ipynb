{
 "cells": [
  {
   "cell_type": "code",
   "execution_count": null,
   "id": "ca5d8d83-d48c-4394-8c61-88d50afb6265",
   "metadata": {},
   "outputs": [],
   "source": [
    "---\n",
    "title: \"Relatório\"\n",
    "format:\n",
    "    html:\n",
    "        cold-fold: true\n",
    "jupyter: python3\n",
    "---"
   ]
  },
  {
   "cell_type": "markdown",
   "id": "f615d7ed-2b3f-43ea-8185-258be913b771",
   "metadata": {},
   "source": [
    "Resultado"
   ]
  },
  {
   "cell_type": "code",
   "execution_count": null,
   "id": "3b2029c8-ba18-47a7-b132-cab79030efe6",
   "metadata": {},
   "outputs": [],
   "source": [
    "#| echo: false\n",
    "#| message: false\n",
    "#| warning: false\n",
    "#| code-fold: true\n",
    "\n",
    "!conda install -c conda-forge pandas -y\n",
    "!conda install -c conda-forge matplotlib -y\n",
    "\n",
    "import pandas as pd\n",
    "import re\n",
    "import matplotlib.pyplot as plt\n",
    "import numpy as np\n",
    "import itertools as IT\n",
    "import glob\n",
    "import os"
   ]
  }
 ],
 "metadata": {
  "kernelspec": {
   "display_name": "Python 3 (ipykernel)",
   "language": "python",
   "name": "python3"
  },
  "language_info": {
   "codemirror_mode": {
    "name": "ipython",
    "version": 3
   },
   "file_extension": ".py",
   "mimetype": "text/x-python",
   "name": "python",
   "nbconvert_exporter": "python",
   "pygments_lexer": "ipython3",
   "version": "3.12.1"
  }
 },
 "nbformat": 4,
 "nbformat_minor": 5
}
